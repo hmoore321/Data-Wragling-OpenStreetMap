{
 "cells": [
  {
   "cell_type": "code",
   "execution_count": null,
   "metadata": {},
   "outputs": [],
   "source": [
    "# Make the tabels...\n",
    "#https://datatofish.com/create-database-python-using-sqlite3/#:~:text=%20Steps%20to%20Create%20a%20Database%20in%20Python,2%3A%20Import%20the%20Data%20using%20Pandas%20More%20\n",
    "\n",
    "\n",
    "import sqlite3\n",
    "import csv\n",
    "db = sqlite3.connect(\"OpenStreetMapSqlite.db\")\n",
    "cursor = db.cursor()\n",
    "cursor.executescript('''\n",
    "DROP TABLE IF EXISTS Nodes;\n",
    "DROP TABLE IF EXISTS Nodes_tags;\n",
    "DROP TABLE IF EXISTS Ways;\n",
    "DROP TABLE IF EXISTS Ways_tags;\n",
    "DROP TABLE IF EXISTS Ways_nodes;\n",
    "\n",
    "CREATE TABLE nodes (\n",
    "    id INTEGER PRIMARY KEY NOT NULL,\n",
    "    lat REAL,\n",
    "    lon REAL,\n",
    "    user TEXT,\n",
    "    uid INTEGER,\n",
    "    version INTEGER,\n",
    "    changeset INTEGER,\n",
    "    timestamp TEXT\n",
    ");\n",
    "\n",
    "CREATE TABLE ways (\n",
    "    id INTEGER PRIMARY KEY NOT NULL,\n",
    "    user TEXT,\n",
    "    uid INTEGER,\n",
    "    version TEXT,\n",
    "    changeset INTEGER,\n",
    "    timestamp TEXT\n",
    ");\n",
    "\n",
    "CREATE TABLE nodes_tags (\n",
    "    id INTEGER,\n",
    "    key TEXT,\n",
    "    value TEXT,\n",
    "    type TEXT,\n",
    "    FOREIGN KEY (id) REFERENCES nodes(id)\n",
    ");\n",
    "\n",
    "CREATE TABLE ways_tags (\n",
    "    id INTEGER NOT NULL,\n",
    "    key TEXT NOT NULL,\n",
    "    value TEXT NOT NULL,\n",
    "    type TEXT,\n",
    "    FOREIGN KEY (id) REFERENCES ways(id)\n",
    ");\n",
    "\n",
    "CREATE TABLE ways_nodes (\n",
    "    id INTEGER NOT NULL,\n",
    "    node_id INTEGER NOT NULL,\n",
    "    position INTEGER NOT NULL,\n",
    "    FOREIGN KEY (id) REFERENCES ways(id),\n",
    "    FOREIGN KEY (node_id) REFERENCES nodes(id)\n",
    ");\n",
    "''')\n",
    "\n",
    "db.commit()\n",
    "cursor.close()"
   ]
  },
  {
   "cell_type": "markdown",
   "metadata": {},
   "source": [
    "### Imported .csv files using sqlite on my computer"
   ]
  },
  {
   "cell_type": "markdown",
   "metadata": {},
   "source": [
    "sqlite> .mode csv   <br>\n",
    "sqlite> .import nodes.csv nodes   <br>\n",
    "\n",
    "Same process followed for the 4 remaining tabels:  <br>\n",
    "ways.csv  <br>\n",
    "nodes_tags.csv  <br>\n",
    "ways_tags.csv  <br>\n",
    "ways_nodes.csv  <br>\n",
    "\n",
    "Next we will run some queries (I decided to run the queries from sqlite directly).  "
   ]
  },
  {
   "cell_type": "code",
   "execution_count": 46,
   "metadata": {},
   "outputs": [
    {
     "name": "stdout",
     "output_type": "stream",
     "text": [
      "Node count [(367494,)]\n"
     ]
    }
   ],
   "source": [
    "db = sqlite3.connect(\"OpenStreetMapSqlite.db\")\n",
    "c = db.cursor()\n",
    "QUERY = \"SELECT count(*) FROM nodes;\"\n",
    "c.execute(QUERY)\n",
    "rows = c.fetchall()\n",
    "print(f\"Node count {rows}\")\n",
    "cursor.close()"
   ]
  },
  {
   "cell_type": "code",
   "execution_count": 42,
   "metadata": {},
   "outputs": [
    {
     "name": "stdout",
     "output_type": "stream",
     "text": [
      "[(84070935, 40.3179932, -111.6696796, 'jackwiplock', 341359, 4, 6803090, '2010-12-29T20:38:07Z'), (84070937, 40.3179963, -111.6690548, 'dle0', 37744, 3, 6008339, '2010-10-11T03:46:15Z'), (84070942, 40.3179728, -111.6863513, 'jackwiplock', 341359, 3, 6793459, '2010-12-28T22:45:38Z'), (84070952, 40.317992, -111.6846227, 'jackwiplock', 341359, 3, 6803090, '2010-12-29T20:39:33Z'), (84070965, 40.265516, -111.688202, 'woodpeck_fixbot', 147510, 2, 3323517, '2009-12-08T09:57:16Z')]\n"
     ]
    }
   ],
   "source": [
    "QUERY = \"SELECT * FROM Nodes limit 5\"\n",
    "c.execute(QUERY)\n",
    "results = c.fetchall()\n",
    "print(results)"
   ]
  },
  {
   "cell_type": "code",
   "execution_count": 48,
   "metadata": {},
   "outputs": [
    {
     "name": "stdout",
     "output_type": "stream",
     "text": [
      "Way count [(45162,)]\n"
     ]
    }
   ],
   "source": [
    "db = sqlite3.connect(\"OpenStreetMapSqlite.db\")\n",
    "c = db.cursor()\n",
    "QUERY = \"SELECT count(*) FROM ways;\"\n",
    "c.execute(QUERY)\n",
    "rows = c.fetchall()\n",
    "print(f\"Way count {rows}\")\n",
    "cursor.close()"
   ]
  },
  {
   "cell_type": "markdown",
   "metadata": {},
   "source": [
    "### Function to find file sizes\n",
    "\n",
    "Reference: https://appdividend.com/2020/05/15/three-ways-to-get-file-size-in-python/"
   ]
  },
  {
   "cell_type": "code",
   "execution_count": 4,
   "metadata": {},
   "outputs": [],
   "source": [
    "import os\n",
    "\n",
    "def get_file_size(filename):\n",
    "    file_size = os.path.getsize(filename)\n",
    "    file_size_mb = file_size / (1024*1024)\n",
    "    file_size_mb_r = round(file_size_mb, 2)\n",
    "    note = f'{file_size_mb_r} MB {filename}'\n",
    "    print(note)\n",
    "    "
   ]
  },
  {
   "cell_type": "markdown",
   "metadata": {},
   "source": [
    "### File Sizes"
   ]
  },
  {
   "cell_type": "code",
   "execution_count": 5,
   "metadata": {},
   "outputs": [
    {
     "name": "stdout",
     "output_type": "stream",
     "text": [
      "80.74 MB example.osm\n",
      "80.74 MB OREM.osm\n",
      "42.78 MB OpenStreetMapSqlite.db\n",
      "30.07 MB nodes.csv\n",
      "0.95 MB nodes_tags.csv\n",
      "2.63 MB ways.csv\n",
      "5.54 MB ways_tags.csv\n",
      "10.26 MB ways_nodes.csv\n"
     ]
    }
   ],
   "source": [
    "get_file_size('example.osm')\n",
    "get_file_size('OREM.osm')\n",
    "get_file_size('OpenStreetMapSqlite.db')\n",
    "get_file_size('nodes.csv')\n",
    "get_file_size('nodes_tags.csv')\n",
    "get_file_size('ways.csv')\n",
    "get_file_size('ways_tags.csv')\n",
    "get_file_size('ways_nodes.csv')"
   ]
  },
  {
   "cell_type": "code",
   "execution_count": null,
   "metadata": {},
   "outputs": [],
   "source": []
  }
 ],
 "metadata": {
  "kernelspec": {
   "display_name": "Python 3",
   "language": "python",
   "name": "python3"
  },
  "language_info": {
   "codemirror_mode": {
    "name": "ipython",
    "version": 3
   },
   "file_extension": ".py",
   "mimetype": "text/x-python",
   "name": "python",
   "nbconvert_exporter": "python",
   "pygments_lexer": "ipython3",
   "version": "3.7.7"
  }
 },
 "nbformat": 4,
 "nbformat_minor": 4
}
